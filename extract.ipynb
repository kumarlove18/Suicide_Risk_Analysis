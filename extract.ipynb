{
 "cells": [
  {
   "cell_type": "code",
   "execution_count": 52,
   "metadata": {},
   "outputs": [],
   "source": [
    "import pandas as pd\n",
    "import matplotlib.pyplot as plt"
   ]
  },
  {
   "cell_type": "code",
   "execution_count": 53,
   "metadata": {},
   "outputs": [],
   "source": [
    "# Load the CSV files\n",
    "soc_2014 = 'DATASET/Social_status_of_suicide_victims_state_2014.csv'\n",
    "prof_2014 = 'DATASET/Profession_profile_of_suicide_victims_state_2014.csv'\n",
    "edu_2014 = 'DATASET/Educational_status_of_suicide_victimes_state_2014_3.csv'\n",
    "soc_2013 = 'DATASET/Social_status_of_suicide_victims_state_2013.csv'\n",
    "prof_2013 = 'DATASET/Profession_profile_of_suicide_victims_state_2013.csv'\n",
    "edu_2013 = 'DATASET/Educational_status_of_suicide_victimes_state_2013_2.csv'\n",
    "soc_2000 = 'DATASET/Social_status_of_suicide_victims_state.csv'\n",
    "prof_2000 = 'DATASET/Profession_profile_of_suicide_victims_state.csv'\n",
    "edu_2000 = 'DATASET/Educational_status_of_suicide_victimes_state.csv'"
   ]
  },
  {
   "cell_type": "code",
   "execution_count": 54,
   "metadata": {},
   "outputs": [],
   "source": [
    "# Load the datasets\n",
    "df_soc_2014 = pd.read_csv(soc_2014, encoding='ISO-8859-1')\n",
    "df_prof_2014 = pd.read_csv(prof_2014, encoding='ISO-8859-1')\n",
    "df_edu_2014 = pd.read_csv(edu_2014, encoding='ISO-8859-1')\n",
    "\n",
    "df_soc_2013 = pd.read_csv(soc_2013, encoding='ISO-8859-1')\n",
    "df_prof_2013 = pd.read_csv(prof_2013, encoding='ISO-8859-1')\n",
    "df_edu_2013 = pd.read_csv(edu_2013, encoding='ISO-8859-1')\n",
    "\n",
    "df_soc_2000 = pd.read_csv(soc_2000, encoding='ISO-8859-1')\n",
    "df_prof_2000 = pd.read_csv(prof_2000, encoding='ISO-8859-1')\n",
    "df_edu_2000 = pd.read_csv(edu_2000, encoding='ISO-8859-1')"
   ]
  },
  {
   "cell_type": "code",
   "execution_count": 56,
   "metadata": {},
   "outputs": [],
   "source": [
    "# Filter out rows where 'State/UTs' starts with 'Total' or 'TOTAL' and update each original dataframe\n",
    "\n",
    "df_soc_2014 = df_soc_2014[~df_soc_2014['States/UTs'].str.startswith(('Total', 'TOTAL'))]\n",
    "df_prof_2014 = df_prof_2014[~df_prof_2014['States/UTs'].str.startswith(('Total', 'TOTAL'))]\n",
    "df_edu_2014 = df_edu_2014[~df_edu_2014['States/UTs'].str.startswith(('Total', 'TOTAL'))]\n",
    "\n",
    "df_soc_2013 = df_soc_2013[~df_soc_2013['States/UTs'].str.startswith(('Total', 'TOTAL'))]\n",
    "df_prof_2013 = df_prof_2013[~df_prof_2013['States/UTs'].str.startswith(('Total', 'TOTAL'))]\n",
    "df_edu_2013 = df_edu_2013[~df_edu_2013['States/UTs'].str.startswith(('Total', 'TOTAL'))]\n",
    "\n",
    "df_soc_2000 = df_soc_2000[~df_soc_2000['States/UTs'].str.startswith(('Total', 'TOTAL'))]\n",
    "df_prof_2000 = df_prof_2000[~df_prof_2000['States/UTs'].str.startswith(('Total', 'TOTAL'))]\n",
    "df_edu_2000 = df_edu_2000[~df_edu_2000['States/UTs'].str.startswith(('Total', 'TOTAL'))]\n",
    "\n",
    "# Now, each original dataframe has been updated with the filtered rows removed.\n",
    "\n"
   ]
  },
  {
   "cell_type": "code",
   "execution_count": 57,
   "metadata": {},
   "outputs": [],
   "source": [
    "# Define the years range\n",
    "years = list(range(2001, 2013))\n",
    "\n",
    "# Dictionary to store the year-wise dataframes for each dataset\n",
    "yearly_datasets = {\n",
    "    'Social': {},\n",
    "    'Profession': {},\n",
    "    'Education': {}\n",
    "}\n",
    "\n",
    "# Split each dataset by year\n",
    "for year in years:\n",
    "    yearly_datasets['Social'][year] = df_soc_2000[df_soc_2000['Year'] == year]\n",
    "    yearly_datasets['Profession'][year] = df_prof_2000[df_prof_2000['Year'] == year]\n",
    "    yearly_datasets['Education'][year] = df_edu_2000[df_edu_2000['Year'] == year]\n",
    "\n",
    "yearly_datasets['Social'][2013] = df_soc_2013\n",
    "yearly_datasets['Profession'][2013] = df_prof_2013\n",
    "yearly_datasets['Education'][2013] = df_edu_2013\n",
    "\n",
    "yearly_datasets['Social'][2014] = df_soc_2014\n",
    "yearly_datasets['Profession'][2014] = df_prof_2014\n",
    "yearly_datasets['Education'][2014] = df_edu_2014"
   ]
  },
  {
   "cell_type": "code",
   "execution_count": 59,
   "metadata": {},
   "outputs": [
    {
     "name": "stdout",
     "output_type": "stream",
     "text": [
      "          States/UTs  Year            CAUSE  Male  Female  Total\n",
      "0     ANDHRA PRADESH  2001    Never Married   819     591   1410\n",
      "1     ANDHRA PRADESH  2001          Married  5135    3135   8270\n",
      "2     ANDHRA PRADESH  2001  Widowed/Widower   183     236    419\n",
      "3     ANDHRA PRADESH  2001         Divorcee    47      43     90\n",
      "4     ANDHRA PRADESH  2001        Seperated   195     138    333\n",
      "...              ...   ...              ...   ...     ...    ...\n",
      "2521      PUDUCHERRY  2001          Married   281     135    416\n",
      "2522      PUDUCHERRY  2001  Widowed/Widower     0       8      8\n",
      "2523      PUDUCHERRY  2001         Divorcee     0       0      0\n",
      "2524      PUDUCHERRY  2001        Seperated     0       0      0\n",
      "2525      PUDUCHERRY  2001            Total   323     206    529\n",
      "\n",
      "[210 rows x 6 columns]\n"
     ]
    }
   ],
   "source": [
    "print(yearly_datasets['Social'][2001])"
   ]
  },
  {
   "cell_type": "code",
   "execution_count": null,
   "metadata": {},
   "outputs": [],
   "source": [
    "# Filter data for \"Total (All India)\" for the year 2014\n",
    "# df_all_india_2014 = df_edu_2014[df_edu_2014['States/UTs'] == 'Total (All India)']\n"
   ]
  },
  {
   "cell_type": "code",
   "execution_count": null,
   "metadata": {},
   "outputs": [],
   "source": [
    "# # Plot histogram for each cause\n",
    "# plt.figure(figsize=(20, 10))\n",
    "\n",
    "# # Extract the causes and total values\n",
    "# causes = df_all_india_2014['CrimeHead']\n",
    "# totals = df_all_india_2014['Total']\n",
    "\n",
    "# # Plot histogram\n",
    "# plt.bar(causes, totals, color='skyblue')\n",
    "# plt.xlabel('Cause of Suicide')\n",
    "# plt.ylabel('Total Number of Suicides')\n",
    "# plt.title('Total Suicides by Cause (All India, 2014)')\n",
    "# plt.xticks(rotation=90)  # Rotate x labels for better visibility\n",
    "# plt.tight_layout()  # Adjust layout to prevent cutoff\n",
    "\n",
    "# # Show the plot\n",
    "# plt.show()"
   ]
  }
 ],
 "metadata": {
  "kernelspec": {
   "display_name": "Python 3",
   "language": "python",
   "name": "python3"
  },
  "language_info": {
   "codemirror_mode": {
    "name": "ipython",
    "version": 3
   },
   "file_extension": ".py",
   "mimetype": "text/x-python",
   "name": "python",
   "nbconvert_exporter": "python",
   "pygments_lexer": "ipython3",
   "version": "3.12.3"
  }
 },
 "nbformat": 4,
 "nbformat_minor": 2
}
